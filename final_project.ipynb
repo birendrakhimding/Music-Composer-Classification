{
 "cells": [
  {
   "cell_type": "code",
   "execution_count": 46,
   "id": "32e27877",
   "metadata": {},
   "outputs": [],
   "source": [
    "import os"
   ]
  },
  {
   "cell_type": "markdown",
   "id": "677dac22",
   "metadata": {},
   "source": [
    "<b>Accessing the .mid files for the dictionary</b>"
   ]
  },
  {
   "cell_type": "code",
   "execution_count": null,
   "id": "025c762e",
   "metadata": {},
   "outputs": [],
   "source": [
    "split_dr = [\"dev\", \"test\", \"train\"]\n",
    "\n",
    "for split in split_dr:\n",
    "    split_path = os.path.join(\"musicData\", split)\n",
    "    for composer in os.listdir(split_path):\n",
    "        if composer.endswith(\".DS_Store\"):\n",
    "            continue\n",
    "        else:\n",
    "            composer_path = os.path.join(split_path, composer)\n",
    "            for file in os.listdir(composer_path):\n",
    "                if file.endswith(\".DS_Store\"):\n",
    "                    continue\n",
    "                else:\n",
    "                    file.endswith(\".mid\")\n",
    "                    full_path = os.path.join(composer_path, file)\n",
    "                    print(full_path)"
   ]
  },
  {
   "cell_type": "markdown",
   "id": "82d69768",
   "metadata": {},
   "source": [
    "<b>Analysing the features form a single - bach344.mid fiel</b>"
   ]
  },
  {
   "cell_type": "code",
   "execution_count": 48,
   "id": "bf2e06fd",
   "metadata": {},
   "outputs": [],
   "source": [
    "import pretty_midi\n",
    "path = \"musicData/dev/bach/bach344.mid\"\n",
    "midi = pretty_midi.PrettyMIDI(path)\n"
   ]
  },
  {
   "cell_type": "markdown",
   "id": "07922745",
   "metadata": {},
   "source": [
    "<b>Basic Level Feature</b>"
   ]
  },
  {
   "cell_type": "code",
   "execution_count": 49,
   "id": "a2f8d8e1",
   "metadata": {},
   "outputs": [
    {
     "name": "stdout",
     "output_type": "stream",
     "text": [
      "duration: 85.73697916666666\n",
      "tempo_change: [0.]\n",
      "bpm: [120.]\n",
      "time_signature: [[np.float64(0.0), 4, 4]]\n",
      "key_signature: []\n",
      "beat: [ 0.   0.5  1.   1.5  2.   2.5  3.   3.5  4.   4.5  5.   5.5  6.   6.5\n",
      "  7.   7.5  8.   8.5  9.   9.5 10.  10.5 11.  11.5 12.  12.5 13.  13.5\n",
      " 14.  14.5 15.  15.5 16.  16.5 17.  17.5 18.  18.5 19.  19.5 20.  20.5\n",
      " 21.  21.5 22.  22.5 23.  23.5 24.  24.5 25.  25.5 26.  26.5 27.  27.5\n",
      " 28.  28.5 29.  29.5 30.  30.5 31.  31.5 32.  32.5 33.  33.5 34.  34.5\n",
      " 35.  35.5 36.  36.5 37.  37.5 38.  38.5 39.  39.5 40.  40.5 41.  41.5\n",
      " 42.  42.5 43.  43.5 44.  44.5 45.  45.5 46.  46.5 47.  47.5 48.  48.5\n",
      " 49.  49.5 50.  50.5 51.  51.5 52.  52.5 53.  53.5 54.  54.5 55.  55.5\n",
      " 56.  56.5 57.  57.5 58.  58.5 59.  59.5 60.  60.5 61.  61.5 62.  62.5\n",
      " 63.  63.5 64.  64.5 65.  65.5 66.  66.5 67.  67.5 68.  68.5 69.  69.5\n",
      " 70.  70.5 71.  71.5 72.  72.5 73.  73.5 74.  74.5 75.  75.5 76.  76.5\n",
      " 77.  77.5 78.  78.5 79.  79.5 80.  80.5 81.  81.5 82.  82.5 83.  83.5\n",
      " 84.  84.5 85.  85.5]\n",
      "num_instrument: 12\n"
     ]
    }
   ],
   "source": [
    "# Total duration\n",
    "duration = midi.get_end_time()\n",
    "\n",
    "# Tempo change and BPM(Beat per Min)\n",
    "tempo_change , bpm = midi.get_tempo_changes()\n",
    "\n",
    "# Time signature \n",
    "time_sig = midi.time_signature_changes\n",
    "time_signature = [[ts.time, ts.numerator, ts.denominator] for ts in time_sig]\n",
    "\n",
    "# Key signature\n",
    "key_sig = midi.key_signature_changes\n",
    "key_signature = [[ks.time, ks.key_number, ks.mode] for ks in key_sig]\n",
    "\n",
    "# Beat\n",
    "beat = midi.get_beats()\n",
    "\n",
    "# Number of instrumet\n",
    "num_instrument = len(midi.instruments)\n",
    "\n",
    "basic_feature = {\n",
    "    \"duration\": duration,\n",
    "    \"tempo_change\": tempo_change,\n",
    "    \"bpm\": bpm,\n",
    "    \"time_signature\": time_signature,\n",
    "    \"key_signature\": key_signature,\n",
    "    \"beat\": beat,\n",
    "    \"num_instrument\": num_instrument\n",
    "}\n",
    "\n",
    "for key, value in basic_feature.items():\n",
    "    print(f\"{key}: {value}\")"
   ]
  },
  {
   "cell_type": "markdown",
   "id": "48ed0dad",
   "metadata": {},
   "source": [
    "<b>Instrument level feature</b>"
   ]
  },
  {
   "cell_type": "code",
   "execution_count": 54,
   "id": "e6a706a2",
   "metadata": {},
   "outputs": [
    {
     "name": "stdout",
     "output_type": "stream",
     "text": [
      "\n",
      "Instrument: 1\n",
      "program: 6\n",
      "is_drum: False\n",
      "name: Track 1\n",
      "notes: [Note(start=0.345052, end=0.570312, pitch=62, velocity=127), Note(start=2.889323, end=3.114583, pitch=62, velocity=127), Note(start=4.505208, end=4.730469, pitch=62, velocity=127), Note(start=5.661458, end=5.886719, pitch=74, velocity=127), Note(start=5.661458, end=6.080729, pitch=50, velocity=127), Note(start=6.355469, end=6.580729, pitch=74, velocity=127), Note(start=7.742188, end=7.967448, pitch=50, velocity=127), Note(start=8.898438, end=9.123698, pitch=74, velocity=127), Note(start=9.822917, end=10.255208, pitch=74, velocity=127), Note(start=10.286458, end=10.511719, pitch=50, velocity=127), Note(start=10.747396, end=11.191406, pitch=74, velocity=127), Note(start=11.441406, end=11.666667, pitch=74, velocity=127), Note(start=11.903646, end=12.128906, pitch=74, velocity=127), Note(start=11.903646, end=12.128906, pitch=50, velocity=127), Note(start=13.059896, end=13.285156, pitch=62, velocity=127), Note(start=13.520833, end=13.746094, pitch=74, velocity=127), Note(start=13.752604, end=13.977865, pitch=62, velocity=127), Note(start=15.371094, end=15.596354, pitch=74, velocity=127), Note(start=15.833333, end=16.058594, pitch=74, velocity=127), Note(start=16.295573, end=16.520833, pitch=62, velocity=127), Note(start=16.527344, end=16.752604, pitch=74, velocity=127), Note(start=16.988281, end=17.213542, pitch=74, velocity=127), Note(start=18.606771, end=18.832031, pitch=74, velocity=127), Note(start=19.069010, end=19.294271, pitch=74, velocity=127), Note(start=19.994792, end=20.427083, pitch=62, velocity=127), Note(start=21.149740, end=21.375000, pitch=74, velocity=127), Note(start=22.305990, end=22.531250, pitch=38, velocity=127), Note(start=23.229167, end=23.454427, pitch=50, velocity=127), Note(start=23.924479, end=24.149740, pitch=50, velocity=127), Note(start=24.386719, end=24.611979, pitch=74, velocity=127), Note(start=24.386719, end=24.611979, pitch=50, velocity=127), Note(start=24.847656, end=25.072917, pitch=74, velocity=127), Note(start=26.003906, end=26.229167, pitch=50, velocity=127), Note(start=26.466146, end=26.691406, pitch=74, velocity=127), Note(start=27.622396, end=27.847656, pitch=50, velocity=127), Note(start=28.315104, end=28.424479, pitch=74, velocity=127), Note(start=28.546875, end=29.234375, pitch=74, velocity=127), Note(start=30.165365, end=30.390625, pitch=50, velocity=127), Note(start=30.859375, end=31.084635, pitch=50, velocity=127), Note(start=31.552083, end=31.777344, pitch=50, velocity=127), Note(start=32.244792, end=32.470052, pitch=50, velocity=127), Note(start=34.325521, end=34.550781, pitch=62, velocity=127), Note(start=34.557292, end=34.782552, pitch=74, velocity=127), Note(start=35.251302, end=35.578125, pitch=74, velocity=127), Note(start=35.713542, end=35.822917, pitch=74, velocity=127), Note(start=35.944010, end=36.053385, pitch=74, velocity=127), Note(start=36.869792, end=37.095052, pitch=74, velocity=127), Note(start=37.100260, end=37.555990, pitch=74, velocity=127), Note(start=37.100260, end=38.182292, pitch=50, velocity=127), Note(start=38.255208, end=38.480469, pitch=50, velocity=127), Note(start=40.104167, end=40.329427, pitch=74, velocity=127), Note(start=41.492188, end=41.717448, pitch=50, velocity=127), Note(start=43.110677, end=43.335938, pitch=50, velocity=127), Note(start=43.571615, end=43.680990, pitch=74, velocity=127), Note(start=43.803385, end=44.621094, pitch=74, velocity=127), Note(start=44.727865, end=44.953125, pitch=50, velocity=127), Note(start=45.190104, end=45.415365, pitch=50, velocity=127), Note(start=45.652344, end=45.877604, pitch=74, velocity=127), Note(start=46.346354, end=46.571615, pitch=74, velocity=127), Note(start=47.964844, end=48.190104, pitch=74, velocity=127), Note(start=49.583333, end=49.808594, pitch=74, velocity=127), Note(start=51.432292, end=51.657552, pitch=74, velocity=127), Note(start=52.125000, end=52.350260, pitch=74, velocity=127), Note(start=52.587240, end=52.812500, pitch=74, velocity=127), Note(start=53.049479, end=53.274740, pitch=50, velocity=127), Note(start=53.743490, end=53.968750, pitch=50, velocity=127), Note(start=54.205729, end=54.614583, pitch=74, velocity=127), Note(start=55.361979, end=55.587240, pitch=50, velocity=127), Note(start=56.516927, end=56.972656, pitch=62, velocity=127), Note(start=57.673177, end=57.898438, pitch=50, velocity=127), Note(start=58.135417, end=58.360677, pitch=74, velocity=127), Note(start=58.483073, end=58.592448, pitch=74, velocity=127), Note(start=59.753906, end=59.979167, pitch=74, velocity=127), Note(start=60.216146, end=60.441406, pitch=50, velocity=127), Note(start=61.834635, end=62.059896, pitch=74, velocity=127), Note(start=62.527344, end=62.752604, pitch=62, velocity=127), Note(start=63.221354, end=63.446615, pitch=74, velocity=127), Note(start=64.376302, end=64.601562, pitch=62, velocity=127), Note(start=65.070312, end=65.295573, pitch=62, velocity=127), Note(start=66.225260, end=66.450521, pitch=62, velocity=127), Note(start=67.613281, end=67.838542, pitch=62, velocity=127), Note(start=69.231771, end=69.457031, pitch=62, velocity=127), Note(start=70.388021, end=70.613281, pitch=74, velocity=127), Note(start=70.388021, end=70.820312, pitch=50, velocity=127), Note(start=71.080729, end=71.305990, pitch=74, velocity=127), Note(start=72.236979, end=72.692708, pitch=50, velocity=127), Note(start=74.085938, end=74.541667, pitch=50, velocity=127), Note(start=74.548177, end=74.657552, pitch=62, velocity=127), Note(start=75.010417, end=75.235677, pitch=74, velocity=127), Note(start=74.778646, end=75.434896, pitch=62, velocity=127), Note(start=76.397135, end=76.622396, pitch=62, velocity=127), Note(start=76.859375, end=76.968750, pitch=74, velocity=127), Note(start=77.089844, end=77.989583, pitch=74, velocity=127), Note(start=77.899740, end=78.009115, pitch=50, velocity=127), Note(start=78.477865, end=78.703125, pitch=74, velocity=127), Note(start=78.940104, end=79.165365, pitch=50, velocity=127), Note(start=80.096354, end=80.205729, pitch=50, velocity=127), Note(start=80.326823, end=80.976562, pitch=50, velocity=127), Note(start=82.455729, end=82.578125, pitch=50, velocity=127), Note(start=82.455729, end=82.768229, pitch=62, velocity=127), Note(start=82.710938, end=83.351562, pitch=50, velocity=127), Note(start=82.967448, end=83.473958, pitch=38, velocity=127)]\n",
      "pitch_bends: [PitchBend(pitch=-316, time=0.000000)]\n",
      "control_changes: []\n",
      "\n",
      "Instrument: 2\n",
      "program: 6\n",
      "is_drum: False\n",
      "name: Track 1\n",
      "notes: [Note(start=0.576823, end=0.802083, pitch=64, velocity=127), Note(start=2.656250, end=2.881510, pitch=64, velocity=127), Note(start=3.812500, end=4.037760, pitch=52, velocity=127), Note(start=4.274740, end=4.500000, pitch=64, velocity=127), Note(start=4.738281, end=5.147135, pitch=52, velocity=127), Note(start=7.973958, end=8.199219, pitch=52, velocity=127), Note(start=9.130208, end=9.355469, pitch=76, velocity=127), Note(start=9.457031, end=9.566406, pitch=76, velocity=127), Note(start=10.053385, end=10.278646, pitch=52, velocity=127), Note(start=12.597656, end=12.958333, pitch=76, velocity=127), Note(start=13.290365, end=13.515625, pitch=76, velocity=127), Note(start=13.752604, end=13.977865, pitch=76, velocity=127), Note(start=19.300781, end=19.526042, pitch=76, velocity=127), Note(start=20.917969, end=21.143229, pitch=76, velocity=127), Note(start=22.421875, end=22.531250, pitch=76, velocity=127), Note(start=23.462240, end=23.687500, pitch=52, velocity=127), Note(start=24.154948, end=24.380208, pitch=52, velocity=127), Note(start=24.617188, end=24.842448, pitch=76, velocity=127), Note(start=25.773438, end=25.998698, pitch=52, velocity=127), Note(start=27.391927, end=27.617188, pitch=52, velocity=127), Note(start=29.240885, end=29.466146, pitch=52, velocity=127), Note(start=29.933594, end=30.158854, pitch=52, velocity=127), Note(start=30.281250, end=30.390625, pitch=76, velocity=127), Note(start=30.627604, end=30.852865, pitch=52, velocity=127), Note(start=31.089844, end=31.498698, pitch=76, velocity=127), Note(start=31.321615, end=31.546875, pitch=52, velocity=127), Note(start=31.783854, end=32.009115, pitch=52, velocity=127), Note(start=34.095052, end=34.320312, pitch=76, velocity=127), Note(start=34.789062, end=35.014323, pitch=76, velocity=127), Note(start=35.597656, end=35.707031, pitch=76, velocity=127), Note(start=35.481771, end=35.707031, pitch=52, velocity=127), Note(start=36.059896, end=36.169271, pitch=76, velocity=127), Note(start=36.329427, end=36.406250, pitch=76, velocity=127), Note(start=36.484375, end=36.561198, pitch=76, velocity=127), Note(start=36.638021, end=36.865885, pitch=76, velocity=127), Note(start=38.486979, end=38.712240, pitch=52, velocity=127), Note(start=39.873698, end=40.098958, pitch=64, velocity=127), Note(start=65.302083, end=65.527344, pitch=64, velocity=127), Note(start=67.381510, end=67.606771, pitch=64, velocity=127), Note(start=68.537760, end=68.763021, pitch=52, velocity=127), Note(start=69.000000, end=69.225260, pitch=64, velocity=127), Note(start=69.462240, end=69.881510, pitch=52, velocity=127), Note(start=75.240885, end=75.466146, pitch=76, velocity=127), Note(start=81.019531, end=81.244792, pitch=64, velocity=127)]\n",
      "pitch_bends: [PitchBend(pitch=-400, time=0.000000)]\n",
      "control_changes: []\n",
      "\n",
      "Instrument: 3\n",
      "program: 6\n",
      "is_drum: False\n",
      "name: Track 1\n",
      "notes: [Note(start=0.807292, end=1.032552, pitch=66, velocity=127), Note(start=1.963542, end=2.188802, pitch=54, velocity=127), Note(start=2.425781, end=2.651042, pitch=66, velocity=127), Note(start=2.889323, end=3.298177, pitch=54, velocity=127), Note(start=6.240885, end=6.350260, pitch=54, velocity=127), Note(start=7.049479, end=7.505208, pitch=54, velocity=127), Note(start=8.204427, end=8.429688, pitch=54, velocity=127), Note(start=14.446615, end=14.807292, pitch=78, velocity=127), Note(start=63.914062, end=64.139323, pitch=54, velocity=127), Note(start=64.376302, end=64.601562, pitch=66, velocity=127), Note(start=65.532552, end=65.757812, pitch=66, velocity=127), Note(start=66.688802, end=66.914062, pitch=54, velocity=127), Note(start=67.151042, end=67.376302, pitch=66, velocity=127), Note(start=67.613281, end=68.032552, pitch=54, velocity=127), Note(start=70.964844, end=71.074219, pitch=54, velocity=127), Note(start=71.773438, end=72.192708, pitch=54, velocity=127), Note(start=73.622396, end=73.847656, pitch=66, velocity=127), Note(start=75.472656, end=75.697917, pitch=78, velocity=127), Note(start=76.166667, end=76.391927, pitch=78, velocity=127), Note(start=79.634115, end=79.859375, pitch=66, velocity=127), Note(start=83.223958, end=83.473958, pitch=66, velocity=127)]\n",
      "pitch_bends: [PitchBend(pitch=-480, time=0.000000)]\n",
      "control_changes: []\n"
     ]
    }
   ],
   "source": [
    "# looping through the instumet attributes\n",
    "for i, inst in enumerate(midi.instruments):\n",
    "    if i == 3:\n",
    "        break\n",
    "    print(f\"\\nInstrument: {i+1}\")\n",
    "    for key, value in vars(inst).items():\n",
    "        print(f\"{key}: {value}\")"
   ]
  },
  {
   "cell_type": "markdown",
   "id": "38072e5e",
   "metadata": {},
   "source": [
    "<b>Note level Feature </b>"
   ]
  },
  {
   "cell_type": "code",
   "execution_count": 55,
   "id": "6591cd9a",
   "metadata": {},
   "outputs": [
    {
     "name": "stdout",
     "output_type": "stream",
     "text": [
      "{'instrument_index': 0, 'pitch': 62, 'velocity': 127, 'start_time': np.float64(0.3450520833333333), 'end_time': np.float64(0.5703125), 'duration': np.float64(0.22526041666666669)}\n",
      "{'instrument_index': 0, 'pitch': 62, 'velocity': 127, 'start_time': np.float64(2.8893229166666665), 'end_time': np.float64(3.114583333333333), 'duration': np.float64(0.22526041666666652)}\n",
      "{'instrument_index': 0, 'pitch': 62, 'velocity': 127, 'start_time': np.float64(4.505208333333333), 'end_time': np.float64(4.73046875), 'duration': np.float64(0.22526041666666696)}\n",
      "{'instrument_index': 0, 'pitch': 74, 'velocity': 127, 'start_time': np.float64(5.661458333333333), 'end_time': np.float64(5.88671875), 'duration': np.float64(0.22526041666666696)}\n",
      "{'instrument_index': 0, 'pitch': 50, 'velocity': 127, 'start_time': np.float64(5.661458333333333), 'end_time': np.float64(6.080729166666666), 'duration': np.float64(0.41927083333333304)}\n",
      "{'instrument_index': 0, 'pitch': 74, 'velocity': 127, 'start_time': np.float64(6.35546875), 'end_time': np.float64(6.580729166666666), 'duration': np.float64(0.22526041666666607)}\n",
      "{'instrument_index': 0, 'pitch': 50, 'velocity': 127, 'start_time': np.float64(7.7421875), 'end_time': np.float64(7.967447916666666), 'duration': np.float64(0.22526041666666607)}\n",
      "{'instrument_index': 0, 'pitch': 74, 'velocity': 127, 'start_time': np.float64(8.8984375), 'end_time': np.float64(9.123697916666666), 'duration': np.float64(0.22526041666666607)}\n",
      "{'instrument_index': 0, 'pitch': 74, 'velocity': 127, 'start_time': np.float64(9.822916666666666), 'end_time': np.float64(10.255208333333332), 'duration': np.float64(0.4322916666666661)}\n",
      "{'instrument_index': 0, 'pitch': 50, 'velocity': 127, 'start_time': np.float64(10.286458333333332), 'end_time': np.float64(10.51171875), 'duration': np.float64(0.22526041666666785)}\n",
      "{'instrument_index': 0, 'pitch': 74, 'velocity': 127, 'start_time': np.float64(10.747395833333332), 'end_time': np.float64(11.19140625), 'duration': np.float64(0.44401041666666785)}\n",
      "{'instrument_index': 0, 'pitch': 74, 'velocity': 127, 'start_time': np.float64(11.44140625), 'end_time': np.float64(11.666666666666666), 'duration': np.float64(0.22526041666666607)}\n",
      "{'instrument_index': 0, 'pitch': 74, 'velocity': 127, 'start_time': np.float64(11.903645833333332), 'end_time': np.float64(12.12890625), 'duration': np.float64(0.22526041666666785)}\n",
      "{'instrument_index': 0, 'pitch': 50, 'velocity': 127, 'start_time': np.float64(11.903645833333332), 'end_time': np.float64(12.12890625), 'duration': np.float64(0.22526041666666785)}\n",
      "{'instrument_index': 0, 'pitch': 62, 'velocity': 127, 'start_time': np.float64(13.059895833333332), 'end_time': np.float64(13.28515625), 'duration': np.float64(0.22526041666666785)}\n",
      "{'instrument_index': 0, 'pitch': 74, 'velocity': 127, 'start_time': np.float64(13.520833333333332), 'end_time': np.float64(13.74609375), 'duration': np.float64(0.22526041666666785)}\n",
      "{'instrument_index': 0, 'pitch': 62, 'velocity': 127, 'start_time': np.float64(13.752604166666666), 'end_time': np.float64(13.977864583333332), 'duration': np.float64(0.22526041666666607)}\n",
      "{'instrument_index': 0, 'pitch': 74, 'velocity': 127, 'start_time': np.float64(15.37109375), 'end_time': np.float64(15.596354166666666), 'duration': np.float64(0.22526041666666607)}\n",
      "{'instrument_index': 0, 'pitch': 74, 'velocity': 127, 'start_time': np.float64(15.833333333333332), 'end_time': np.float64(16.05859375), 'duration': np.float64(0.22526041666666785)}\n",
      "{'instrument_index': 0, 'pitch': 62, 'velocity': 127, 'start_time': np.float64(16.295572916666664), 'end_time': np.float64(16.520833333333332), 'duration': np.float64(0.22526041666666785)}\n"
     ]
    }
   ],
   "source": [
    "# Extracting noes feacture from the instrument\n",
    "note_rows = []\n",
    "for inst_idx, inst in enumerate(midi.instruments):\n",
    "    for note in inst.notes:\n",
    "        duration_note = note.end - note.start\n",
    "        note_rows.append({\n",
    "                'instrument_index': inst_idx,\n",
    "                'pitch': note.pitch,\n",
    "                'velocity': note.velocity,\n",
    "                'start_time': note.start,\n",
    "                'end_time': note.end,\n",
    "                'duration': duration_note\n",
    "            })\n",
    "\n",
    "for i, val in enumerate(note_rows):\n",
    "\n",
    "    if i == 20:\n",
    "        break\n",
    "    if val[\"instrument_index\"] == 0:\n",
    "        print(val)\n",
    "    else:\n",
    "        break"
   ]
  },
  {
   "cell_type": "markdown",
   "id": "aeab9de3",
   "metadata": {},
   "source": [
    "<b>Statistical Features</b>"
   ]
  },
  {
   "cell_type": "code",
   "execution_count": 52,
   "id": "cccb7586",
   "metadata": {},
   "outputs": [
    {
     "name": "stdout",
     "output_type": "stream",
     "text": [
      "avg_note_duration: 0.2614608293397232\n",
      "avg_velocity: 127.0\n",
      "pitch_rage: 46\n",
      "tempo_mean: 0.0\n",
      "tempo_std: 0.0\n",
      "num_instrument: 12\n"
     ]
    }
   ],
   "source": [
    "import numpy as np\n",
    "\n",
    "\n",
    "all_duration = []\n",
    "all_velocity = []\n",
    "all_pitch = []\n",
    "total_notes = 0\n",
    "\n",
    "\n",
    "for i, inst in enumerate(midi.instruments):\n",
    "    total_notes += len(inst.notes)\n",
    "    for note in inst.notes:\n",
    "        duration_note = note.end - note.start\n",
    "        all_duration.append(duration_note)\n",
    "        all_velocity.append(note.velocity)\n",
    "        all_pitch.append(note.pitch)\n",
    "\n",
    "# Average note duration and velocity\n",
    "avg_note_duration = np.mean(all_duration)\n",
    "avg_velocity = np.mean(all_velocity)\n",
    "\n",
    "# Pitch range\n",
    "pitch_rage = max(all_pitch) - min(all_pitch)\n",
    "\n",
    "\n",
    "# Tempo mean and std\n",
    "tempo_change , bpm = midi.get_tempo_changes()\n",
    "tempo_mean = np.mean(tempo_change)\n",
    "tempo_std = np.std(tempo_change)\n",
    "\n",
    "# Number of instrumet\n",
    "num_instrument = len(midi.instruments)\n",
    "\n",
    "\n",
    "sts_features = {\n",
    "    \"avg_note_duration\": avg_note_duration,\n",
    "    \"avg_velocity\": avg_velocity,\n",
    "    \"pitch_rage\": pitch_rage,\n",
    "    \"tempo_mean\": tempo_mean,\n",
    "    \"tempo_std\": tempo_std,\n",
    "    \"num_instrument\": num_instrument\n",
    "}\n",
    "\n",
    "for key, value in sts_features.items():\n",
    "    print(f\"{key}: {value}\")\n",
    "        "
   ]
  }
 ],
 "metadata": {
  "kernelspec": {
   "display_name": "aai",
   "language": "python",
   "name": "python3"
  },
  "language_info": {
   "codemirror_mode": {
    "name": "ipython",
    "version": 3
   },
   "file_extension": ".py",
   "mimetype": "text/x-python",
   "name": "python",
   "nbconvert_exporter": "python",
   "pygments_lexer": "ipython3",
   "version": "3.11.9"
  }
 },
 "nbformat": 4,
 "nbformat_minor": 5
}
