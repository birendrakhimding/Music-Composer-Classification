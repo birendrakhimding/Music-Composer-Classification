{
  "nbformat": 4,
  "nbformat_minor": 0,
  "metadata": {
    "colab": {
      "provenance": []
    },
    "kernelspec": {
      "name": "python3",
      "display_name": "Python 3"
    },
    "language_info": {
      "name": "python"
    }
  },
  "cells": [
    {
      "cell_type": "code",
      "execution_count": 2,
      "metadata": {
        "colab": {
          "base_uri": "https://localhost:8080/"
        },
        "id": "0Jq7FIvp3nkt",
        "outputId": "c462261a-17d1-4b51-968d-0bec54ffabeb"
      },
      "outputs": [
        {
          "output_type": "stream",
          "name": "stdout",
          "text": [
            "replace __MACOSX/._Composer_Dataset? [y]es, [n]o, [A]ll, [N]one, [r]ename: "
          ]
        }
      ],
      "source": [
        "!unzip -q Composer_Dataset.zip"
      ]
    },
    {
      "cell_type": "code",
      "source": [
        "!pip install pretty_midi\n",
        "!pip install mido librosa\n",
        "import pretty_midi"
      ],
      "metadata": {
        "colab": {
          "base_uri": "https://localhost:8080/"
        },
        "id": "Xt-T8sVS5ZsE",
        "outputId": "3e5ad082-edad-4d80-b4ca-5fb6684f6c9a"
      },
      "execution_count": 8,
      "outputs": [
        {
          "output_type": "stream",
          "name": "stdout",
          "text": [
            "Requirement already satisfied: pretty_midi in /usr/local/lib/python3.11/dist-packages (0.2.10)\n",
            "Requirement already satisfied: numpy>=1.7.0 in /usr/local/lib/python3.11/dist-packages (from pretty_midi) (2.0.2)\n",
            "Requirement already satisfied: mido>=1.1.16 in /usr/local/lib/python3.11/dist-packages (from pretty_midi) (1.3.3)\n",
            "Requirement already satisfied: six in /usr/local/lib/python3.11/dist-packages (from pretty_midi) (1.17.0)\n",
            "Requirement already satisfied: packaging in /usr/local/lib/python3.11/dist-packages (from mido>=1.1.16->pretty_midi) (25.0)\n",
            "Requirement already satisfied: mido in /usr/local/lib/python3.11/dist-packages (1.3.3)\n",
            "Requirement already satisfied: librosa in /usr/local/lib/python3.11/dist-packages (0.11.0)\n",
            "Requirement already satisfied: packaging in /usr/local/lib/python3.11/dist-packages (from mido) (25.0)\n",
            "Requirement already satisfied: audioread>=2.1.9 in /usr/local/lib/python3.11/dist-packages (from librosa) (3.0.1)\n",
            "Requirement already satisfied: numba>=0.51.0 in /usr/local/lib/python3.11/dist-packages (from librosa) (0.60.0)\n",
            "Requirement already satisfied: numpy>=1.22.3 in /usr/local/lib/python3.11/dist-packages (from librosa) (2.0.2)\n",
            "Requirement already satisfied: scipy>=1.6.0 in /usr/local/lib/python3.11/dist-packages (from librosa) (1.15.3)\n",
            "Requirement already satisfied: scikit-learn>=1.1.0 in /usr/local/lib/python3.11/dist-packages (from librosa) (1.6.1)\n",
            "Requirement already satisfied: joblib>=1.0 in /usr/local/lib/python3.11/dist-packages (from librosa) (1.5.1)\n",
            "Requirement already satisfied: decorator>=4.3.0 in /usr/local/lib/python3.11/dist-packages (from librosa) (4.4.2)\n",
            "Requirement already satisfied: soundfile>=0.12.1 in /usr/local/lib/python3.11/dist-packages (from librosa) (0.13.1)\n",
            "Requirement already satisfied: pooch>=1.1 in /usr/local/lib/python3.11/dist-packages (from librosa) (1.8.2)\n",
            "Requirement already satisfied: soxr>=0.3.2 in /usr/local/lib/python3.11/dist-packages (from librosa) (0.5.0.post1)\n",
            "Requirement already satisfied: typing_extensions>=4.1.1 in /usr/local/lib/python3.11/dist-packages (from librosa) (4.14.1)\n",
            "Requirement already satisfied: lazy_loader>=0.1 in /usr/local/lib/python3.11/dist-packages (from librosa) (0.4)\n",
            "Requirement already satisfied: msgpack>=1.0 in /usr/local/lib/python3.11/dist-packages (from librosa) (1.1.1)\n",
            "Requirement already satisfied: llvmlite<0.44,>=0.43.0dev0 in /usr/local/lib/python3.11/dist-packages (from numba>=0.51.0->librosa) (0.43.0)\n",
            "Requirement already satisfied: platformdirs>=2.5.0 in /usr/local/lib/python3.11/dist-packages (from pooch>=1.1->librosa) (4.3.8)\n",
            "Requirement already satisfied: requests>=2.19.0 in /usr/local/lib/python3.11/dist-packages (from pooch>=1.1->librosa) (2.32.3)\n",
            "Requirement already satisfied: threadpoolctl>=3.1.0 in /usr/local/lib/python3.11/dist-packages (from scikit-learn>=1.1.0->librosa) (3.6.0)\n",
            "Requirement already satisfied: cffi>=1.0 in /usr/local/lib/python3.11/dist-packages (from soundfile>=0.12.1->librosa) (1.17.1)\n",
            "Requirement already satisfied: pycparser in /usr/local/lib/python3.11/dist-packages (from cffi>=1.0->soundfile>=0.12.1->librosa) (2.22)\n",
            "Requirement already satisfied: charset-normalizer<4,>=2 in /usr/local/lib/python3.11/dist-packages (from requests>=2.19.0->pooch>=1.1->librosa) (3.4.2)\n",
            "Requirement already satisfied: idna<4,>=2.5 in /usr/local/lib/python3.11/dist-packages (from requests>=2.19.0->pooch>=1.1->librosa) (3.10)\n",
            "Requirement already satisfied: urllib3<3,>=1.21.1 in /usr/local/lib/python3.11/dist-packages (from requests>=2.19.0->pooch>=1.1->librosa) (2.4.0)\n",
            "Requirement already satisfied: certifi>=2017.4.17 in /usr/local/lib/python3.11/dist-packages (from requests>=2.19.0->pooch>=1.1->librosa) (2025.7.14)\n"
          ]
        }
      ]
    },
    {
      "cell_type": "code",
      "source": [
        "import os\n",
        "import numpy as np\n",
        "import pretty_midi\n",
        "from sklearn.preprocessing import LabelEncoder\n",
        "from tensorflow.keras.utils import to_categorical"
      ],
      "metadata": {
        "id": "irMN78LPE9sK"
      },
      "execution_count": 9,
      "outputs": []
    },
    {
      "cell_type": "markdown",
      "source": [
        " ## Function to Read MIDI Files as Piano Roll\n",
        "\n",
        " ## get_fixed_piano_roll():\n",
        " This function reads a single MIDI file and converts it into a fixed-size piano roll matrix, which is a common input format for deep learning models like CNNs."
      ],
      "metadata": {
        "id": "Vym5sixeGHvz"
      }
    },
    {
      "cell_type": "code",
      "source": [
        "def get_fixed_piano_roll(midi_path, max_time_steps=500):\n",
        "    try:\n",
        "        midi = pretty_midi.PrettyMIDI(midi_path)\n",
        "        roll = midi.get_piano_roll(fs=100)[:128, :]  # only 128 pitches\n",
        "        if roll.shape[1] < max_time_steps:\n",
        "            pad = max_time_steps - roll.shape[1]\n",
        "            roll = np.pad(roll, ((0, 0), (0, pad)), mode='constant')\n",
        "        else:\n",
        "            roll = roll[:, :max_time_steps]\n",
        "        return roll\n",
        "    except Exception as e:\n",
        "        print(f\"Skipped {midi_path}: {e}\")\n",
        "        return None"
      ],
      "metadata": {
        "id": "mwnegwGaJ2iR"
      },
      "execution_count": 10,
      "outputs": []
    },
    {
      "cell_type": "markdown",
      "source": [
        "## process_and_save_all()\n",
        "This function performs the following steps\n",
        "- Read all .mid/.midi files in folders (organized by composer),\n",
        "\n",
        "- Convert them into fixed-size piano roll matrices (via get_fixed_piano_roll()),\n",
        "\n",
        "- Save each piano roll to disk as a .npy file,\n",
        "\n",
        "- Create a CSV index file listing:\n",
        "\n",
        "- the .npy file path\n",
        "\n",
        "- the label (composer name)\n",
        "\n"
      ],
      "metadata": {
        "id": "uniqlMjSKzJE"
      }
    },
    {
      "cell_type": "code",
      "source": [
        "def process_and_save_all(mid_root, save_dir, csv_path):\n",
        "    os.makedirs(save_dir, exist_ok=True)\n",
        "    rows = []\n",
        "    for composer in sorted(os.listdir(mid_root)):\n",
        "        comp_dir = os.path.join(mid_root, composer)\n",
        "        if not os.path.isdir(comp_dir): continue\n",
        "        for fname in os.listdir(comp_dir):\n",
        "            if not fname.lower().endswith(('.mid', '.midi')): continue\n",
        "            full_path = os.path.join(comp_dir, fname)\n",
        "            piano_roll = get_fixed_piano_roll(full_path)\n",
        "            if piano_roll is not None:\n",
        "                save_name = f\"{composer}_{fname.replace('.mid','').replace('.midi','')}.npy\"\n",
        "                save_path = os.path.join(save_dir, save_name)\n",
        "                np.save(save_path, piano_roll)\n",
        "                rows.append([save_path, composer])\n",
        "    df = pd.DataFrame(rows, columns=['file_path', 'label'])\n",
        "    df.to_csv(csv_path, index=False)\n",
        "    print(f\"Saved {len(df)} files to {save_dir} and index to {csv_path}\")"
      ],
      "metadata": {
        "id": "Iw11HFGQKymK"
      },
      "execution_count": 11,
      "outputs": []
    },
    {
      "cell_type": "code",
      "source": [
        "import pandas as pd\n",
        "process_and_save_all(\n",
        "    mid_root=\"Composer_Dataset/NN_midi_files_extended/train\",\n",
        "    save_dir=\"saved_pianorolls/train\",\n",
        "    csv_path=\"saved_pianorolls/train_index.csv\"\n",
        ")"
      ],
      "metadata": {
        "colab": {
          "base_uri": "https://localhost:8080/"
        },
        "id": "z-IiZ28bJ7t1",
        "outputId": "f6f2173e-86ba-4d9d-a616-1ff7d42bf7d6"
      },
      "execution_count": 7,
      "outputs": [
        {
          "output_type": "stream",
          "name": "stdout",
          "text": [
            "Saved 369 files to saved_pianorolls/train and index to saved_pianorolls/train_index.csv\n"
          ]
        }
      ]
    }
  ]
}